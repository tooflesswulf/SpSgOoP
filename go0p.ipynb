{
  "nbformat": 4,
  "nbformat_minor": 0,
  "metadata": {
    "colab": {
      "name": "go0p.ipynb",
      "provenance": [],
      "collapsed_sections": [],
      "authorship_tag": "ABX9TyM9RK/uOd9sh+4h1N9o1YM3",
      "include_colab_link": true
    },
    "kernelspec": {
      "name": "python3",
      "display_name": "Python 3"
    }
  },
  "cells": [
    {
      "cell_type": "markdown",
      "metadata": {
        "id": "view-in-github",
        "colab_type": "text"
      },
      "source": [
        "<a href=\"https://colab.research.google.com/github/tooflesswulf/SpSgOoP/blob/master/go0p.ipynb\" target=\"_parent\"><img src=\"https://colab.research.google.com/assets/colab-badge.svg\" alt=\"Open In Colab\"/></a>"
      ]
    },
    {
      "cell_type": "code",
      "metadata": {
        "id": "_Jrtv7r6gkzc",
        "colab_type": "code",
        "colab": {}
      },
      "source": [
        "import numpy as np\n",
        "import matplotlib.pyplot as plt\n",
        "\n",
        "%matplotlib inline"
      ],
      "execution_count": 1,
      "outputs": []
    },
    {
      "cell_type": "markdown",
      "metadata": {
        "id": "--yro4x6hC8o",
        "colab_type": "text"
      },
      "source": [
        "Let's start off with a guide to numerical differential equations. Begin, as any good person should, with a simple harmonic oscillator. The dynamics can be described with the following equation:\n",
        "\n",
        "F = ma = -kx\n",
        "\n",
        "a = -kx/m"
      ]
    },
    {
      "cell_type": "code",
      "metadata": {
        "id": "mJAB-gd8hCbv",
        "colab_type": "code",
        "colab": {}
      },
      "source": [
        "x0 = 10\n",
        "v0 = 0\n",
        "k_by_m = 1\n",
        "dt = 0.01"
      ],
      "execution_count": 4,
      "outputs": []
    },
    {
      "cell_type": "code",
      "metadata": {
        "id": "bcAXGMLghgg6",
        "colab_type": "code",
        "colab": {}
      },
      "source": [
        "x = [x0]\n",
        "v = [v0]\n",
        "t = [0]\n",
        "while t[-1] < 20:\n",
        "  x.append(x[-1] + v[-1]*dt)\n",
        "  v.append(v[-1] - (k_by_m * x[-1])*dt)\n",
        "  t.append(t[-1] + dt)"
      ],
      "execution_count": 11,
      "outputs": []
    },
    {
      "cell_type": "code",
      "metadata": {
        "id": "8U7EPDVuh5iz",
        "colab_type": "code",
        "colab": {
          "base_uri": "https://localhost:8080/",
          "height": 282
        },
        "outputId": "1bc4aeb9-15d0-4227-efe8-b37fcf26cde4"
      },
      "source": [
        "plt.plot(t, x)"
      ],
      "execution_count": 12,
      "outputs": [
        {
          "output_type": "execute_result",
          "data": {
            "text/plain": [
              "[<matplotlib.lines.Line2D at 0x7fa129374908>]"
            ]
          },
          "metadata": {
            "tags": []
          },
          "execution_count": 12
        },
        {
          "output_type": "display_data",
          "data": {
            "image/png": "[encoded data removed]",
            "text/plain": [
              "<Figure size 432x288 with 1 Axes>"
            ]
          },
          "metadata": {
            "tags": [],
            "needs_background": "light"
          }
        }
      ]
    },
    {
      "cell_type": "markdown",
      "metadata": {
        "id": "roF5FwfNiH13",
        "colab_type": "text"
      },
      "source": [
        "A sine wave, exactly what we would expect :)"
      ]
    }
  ]
}